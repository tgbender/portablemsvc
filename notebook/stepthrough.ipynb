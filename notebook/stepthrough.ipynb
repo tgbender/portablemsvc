{
 "cells": [
  {
   "cell_type": "code",
   "id": "initial_id",
   "metadata": {
    "collapsed": true
   },
   "source": [
    "# if you don’t want to install, just add the src folder to sys.path\n",
    "import sys\n",
    "sys.path.insert(0, \"../src\")"
   ],
   "outputs": [],
   "execution_count": null
  },
  {
   "metadata": {},
   "cell_type": "code",
   "source": [
    "from portablemsvc.manifest import get_vs_manifest\n",
    "\n",
    "# turn off cache if you want a fresh download\n",
    "vs_manifest = get_vs_manifest(cache=True)\n",
    "print(\"Fetched VS manifest keys:\", list(vs_manifest.keys())[:5])"
   ],
   "id": "51ca0ae3e0365536",
   "outputs": [],
   "execution_count": null
  },
  {
   "metadata": {},
   "cell_type": "code",
   "source": [
    "from portablemsvc.parse_manifest import parse_vs_manifest\n",
    "\n",
    "parsed = parse_vs_manifest(\n",
    "    vs_manifest,\n",
    "    host=\"x64\",            # your host arch\n",
    "    targets=[\"x64\"],       # your target archs\n",
    "    msvc_version=None,     # None for latest\n",
    "    sdk_version=None       # None for latest\n",
    ")\n",
    "print(\"Selected MSVC:\", parsed[\"selected_msvc\"])\n",
    "print(\"Selected SDK:\",  parsed[\"selected_sdk\"]['version'])"
   ],
   "id": "ac78e3ff1c269f82",
   "outputs": [],
   "execution_count": null
  },
  {
   "metadata": {},
   "cell_type": "code",
   "source": [
    "from portablemsvc.download_manifest import download_manifest_files\n",
    "\n",
    "files_map = download_manifest_files(parsed)   # returns { filename → Path(cache) }\n",
    "print(\"Downloaded manifest files:\", files_map)"
   ],
   "id": "304370f797032c43",
   "outputs": [],
   "execution_count": null
  },
  {
   "metadata": {},
   "cell_type": "code",
   "source": [
    "from portablemsvc.parse_msi import parse_msi_for_cabs\n",
    "from portablemsvc.download import download_files\n",
    "\n",
    "sdk_info     = parsed[\"selected_sdk\"][\"package_info\"]\n",
    "cab_payloads = parse_msi_for_cabs(files_map, sdk_info)\n",
    "\n",
    "cab_map = download_files(cab_payloads)\n",
    "\n",
    "print(\"First Found CAB:\", [key for key in cab_payloads.keys()][0])\n",
    "print(\"First Downloaded CAB file:\", [key for key in cab_map.keys()][0])"
   ],
   "id": "87532437c6883503",
   "outputs": [],
   "execution_count": null
  },
  {
   "metadata": {},
   "cell_type": "code",
   "source": [
    "from pathlib import Path\n",
    "from portablemsvc.config import DATA_DIR\n",
    "from portablemsvc.extract import extract_package_files\n",
    "\n",
    "msvc_full = parsed[\"selected_msvc\"][\"full_version\"]\n",
    "sdk_ver   = parsed[\"selected_sdk\"][\"version\"]\n",
    "\n",
    "out_dir = Path(DATA_DIR) / f\"msvc-{msvc_full}_sdk-{sdk_ver}\"\n",
    "all_files = {**files_map, **cab_map}\n",
    "\n",
    "extracted = extract_package_files(all_files, out_dir)\n",
    "print(\"Extraction complete.  Sample extracted paths:\")\n",
    "for p in list(extracted[\"msvc\"])[:5]:\n",
    "    print(\" \", p)\n"
   ],
   "id": "a7669e87055d4b3e",
   "outputs": [],
   "execution_count": null
  },
  {
   "metadata": {},
   "cell_type": "code",
   "source": [
    "from portablemsvc.install import install_msvc_components\n",
    "\n",
    "# This will perform the CRT wiring, msdia copy, cleanup, batch‐file creation\n",
    "install_results = install_msvc_components(\n",
    "    output_dir=out_dir,\n",
    "    extracted_files=extracted,\n",
    "    host=\"x64\",            # your host arch\n",
    "    targets=[\"x64\"],       # your target archs\n",
    "    msvc_version=msvc_full,\n",
    "    sdk_version=sdk_ver\n",
    ")\n",
    "\n",
    "print(\"install_msvc_components returned:\")\n",
    "print(install_results)"
   ],
   "id": "d9a43b972ca80ac9",
   "outputs": [],
   "execution_count": null
  }
 ],
 "metadata": {
  "kernelspec": {
   "display_name": "Python 3",
   "language": "python",
   "name": "python3"
  },
  "language_info": {
   "codemirror_mode": {
    "name": "ipython",
    "version": 2
   },
   "file_extension": ".py",
   "mimetype": "text/x-python",
   "name": "python",
   "nbconvert_exporter": "python",
   "pygments_lexer": "ipython2",
   "version": "2.7.6"
  }
 },
 "nbformat": 4,
 "nbformat_minor": 5
}
